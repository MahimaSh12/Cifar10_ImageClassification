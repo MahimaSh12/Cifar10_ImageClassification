{
  "nbformat": 4,
  "nbformat_minor": 0,
  "metadata": {
    "colab": {
      "provenance": []
    },
    "kernelspec": {
      "name": "python3",
      "display_name": "Python 3"
    },
    "language_info": {
      "name": "python"
    }
  },
  "cells": [
    {
      "cell_type": "code",
      "source": [
        "#CNN Architecture\n",
        "'''\n",
        "1.Will use Sequential model here\n",
        "2.Will add '2-Conv2D layers'\n",
        "    1.Inside First\n",
        "        * 'filter size' 32\n",
        "        * kernel size 3*3\n",
        "        * activation relu\n",
        "        * input shape 32,32,3\n",
        "        * MaxPooling2D (2,2)\n",
        "    2.Inside Second\n",
        "        * 'filter size' 64\n",
        "        * kernel size 5*5\n",
        "        * activation relu\n",
        "        * MaxPooling2D (2,2)\n",
        "3.One flatten layer\n",
        "4.two dense layer\n",
        "'''\n"
      ],
      "metadata": {
        "id": "3n31190dbUMZ",
        "colab": {
          "base_uri": "https://localhost:8080/",
          "height": 87
        },
        "outputId": "ad2b6d11-d393-4e3b-c4af-3325d06ac030"
      },
      "execution_count": 102,
      "outputs": [
        {
          "output_type": "execute_result",
          "data": {
            "text/plain": [
              "\"\\n1.Will use Sequential model here\\n2.Will add '2-Conv2D layers'\\n    1.Inside First\\n        * 'filter size' 32\\n        * kernel size 3*3\\n        * activation relu\\n        * input shape 32,32,3\\n        * MaxPooling2D (2,2)\\n    2.Inside Second\\n        * 'filter size' 64\\n        * kernel size 5*5\\n        * activation relu\\n        * MaxPooling2D (2,2)\\n3.One flatten layer\\n4.two dense layer\\n\""
            ],
            "application/vnd.google.colaboratory.intrinsic+json": {
              "type": "string"
            }
          },
          "metadata": {},
          "execution_count": 102
        }
      ]
    },
    {
      "cell_type": "code",
      "execution_count": 103,
      "metadata": {
        "id": "MqUQguKlZTVf"
      },
      "outputs": [],
      "source": [
        "import tensorflow\n",
        "from tensorflow import keras\n",
        "from keras.layers import Conv2D,MaxPooling2D\n",
        "from keras.layers import Dense, Flatten,Dropout\n",
        "from keras import datasets\n",
        "from keras.datasets import cifar10\n"
      ]
    },
    {
      "cell_type": "code",
      "source": [
        "(X_train,Y_train),(X_test,Y_test)=datasets.cifar10.load_data()"
      ],
      "metadata": {
        "id": "2ydJTYYEaHco"
      },
      "execution_count": 104,
      "outputs": []
    },
    {
      "cell_type": "code",
      "source": [
        "(X_train.shape,Y_train.shape),(X_test.shape,Y_test.shape)"
      ],
      "metadata": {
        "id": "z3OvQwxmfMAR",
        "colab": {
          "base_uri": "https://localhost:8080/"
        },
        "outputId": "327b963a-c56d-44f4-8ca9-d104c0a18e6a"
      },
      "execution_count": 105,
      "outputs": [
        {
          "output_type": "execute_result",
          "data": {
            "text/plain": [
              "(((50000, 32, 32, 3), (50000, 1)), ((10000, 32, 32, 3), (10000, 1)))"
            ]
          },
          "metadata": {},
          "execution_count": 105
        }
      ]
    },
    {
      "cell_type": "code",
      "source": [
        "classes=['airplane','automobile','birds','cat','deer','dog','frog','horse','ship','truck']"
      ],
      "metadata": {
        "id": "cfo2GVXxf8b-"
      },
      "execution_count": 106,
      "outputs": []
    },
    {
      "cell_type": "code",
      "source": [
        "import matplotlib.pyplot as plt\n",
        "plt.imshow(X_train[0])\n",
        "plt.show()"
      ],
      "metadata": {
        "id": "lWUUYzNlgdgq",
        "colab": {
          "base_uri": "https://localhost:8080/",
          "height": 430
        },
        "outputId": "5760a507-660a-40f8-f38f-b86260eba7d0"
      },
      "execution_count": 107,
      "outputs": [
        {
          "output_type": "display_data",
          "data": {
            "text/plain": [
              "<Figure size 640x480 with 1 Axes>"
            ],
            "image/png": "[encoded data removed]"
          },
          "metadata": {}
        }
      ]
    },
    {
      "cell_type": "code",
      "source": [
        "Y_train=Y_train.reshape(-1)\n",
        "Y_test=Y_test.reshape(-1)\n",
        "Y_train.shape,Y_test.shape"
      ],
      "metadata": {
        "id": "j5pQZBJ5hlrg",
        "colab": {
          "base_uri": "https://localhost:8080/"
        },
        "outputId": "a3b5d1d6-10a8-4095-fdeb-9bff55a43b76"
      },
      "execution_count": 108,
      "outputs": [
        {
          "output_type": "execute_result",
          "data": {
            "text/plain": [
              "((50000,), (10000,))"
            ]
          },
          "metadata": {},
          "execution_count": 108
        }
      ]
    },
    {
      "cell_type": "code",
      "source": [
        "def prg_imgshow(X,Y,index):\n",
        "  plt.title(classes[Y[index]])\n",
        "  plt.imshow(X[index])\n",
        "  plt.axis('off')\n",
        "  plt.show()"
      ],
      "metadata": {
        "id": "mDSjEqVTgxl4"
      },
      "execution_count": 109,
      "outputs": []
    },
    {
      "cell_type": "code",
      "source": [
        "prg_imgshow(X_train,Y_train,5)"
      ],
      "metadata": {
        "id": "C_DycUaohYq5",
        "colab": {
          "base_uri": "https://localhost:8080/",
          "height": 428
        },
        "outputId": "3b86521b-608d-4cdb-ba99-a3d24a2667e0"
      },
      "execution_count": 110,
      "outputs": [
        {
          "output_type": "display_data",
          "data": {
            "text/plain": [
              "<Figure size 640x480 with 1 Axes>"
            ],
            "image/png": "[encoded data removed]"
          },
          "metadata": {}
        }
      ]
    },
    {
      "cell_type": "code",
      "source": [
        "X_train[0]"
      ],
      "metadata": {
        "id": "Va3uH8SpigfM",
        "colab": {
          "base_uri": "https://localhost:8080/"
        },
        "outputId": "45eb6622-3de2-462e-c356-78cc06330d93"
      },
      "execution_count": 111,
      "outputs": [
        {
          "output_type": "execute_result",
          "data": {
            "text/plain": [
              "array([[[ 59,  62,  63],\n",
              "        [ 43,  46,  45],\n",
              "        [ 50,  48,  43],\n",
              "        ...,\n",
              "        [158, 132, 108],\n",
              "        [152, 125, 102],\n",
              "        [148, 124, 103]],\n",
              "\n",
              "       [[ 16,  20,  20],\n",
              "        [  0,   0,   0],\n",
              "        [ 18,   8,   0],\n",
              "        ...,\n",
              "        [123,  88,  55],\n",
              "        [119,  83,  50],\n",
              "        [122,  87,  57]],\n",
              "\n",
              "       [[ 25,  24,  21],\n",
              "        [ 16,   7,   0],\n",
              "        [ 49,  27,   8],\n",
              "        ...,\n",
              "        [118,  84,  50],\n",
              "        [120,  84,  50],\n",
              "        [109,  73,  42]],\n",
              "\n",
              "       ...,\n",
              "\n",
              "       [[208, 170,  96],\n",
              "        [201, 153,  34],\n",
              "        [198, 161,  26],\n",
              "        ...,\n",
              "        [160, 133,  70],\n",
              "        [ 56,  31,   7],\n",
              "        [ 53,  34,  20]],\n",
              "\n",
              "       [[180, 139,  96],\n",
              "        [173, 123,  42],\n",
              "        [186, 144,  30],\n",
              "        ...,\n",
              "        [184, 148,  94],\n",
              "        [ 97,  62,  34],\n",
              "        [ 83,  53,  34]],\n",
              "\n",
              "       [[177, 144, 116],\n",
              "        [168, 129,  94],\n",
              "        [179, 142,  87],\n",
              "        ...,\n",
              "        [216, 184, 140],\n",
              "        [151, 118,  84],\n",
              "        [123,  92,  72]]], dtype=uint8)"
            ]
          },
          "metadata": {},
          "execution_count": 111
        }
      ]
    },
    {
      "cell_type": "code",
      "source": [
        "X_train.min(),X_train.max()"
      ],
      "metadata": {
        "id": "3yaEui7Ji5-Q",
        "colab": {
          "base_uri": "https://localhost:8080/"
        },
        "outputId": "b9d6a225-2d9c-435a-dd3a-a200151eb984"
      },
      "execution_count": 112,
      "outputs": [
        {
          "output_type": "execute_result",
          "data": {
            "text/plain": [
              "(0, 255)"
            ]
          },
          "metadata": {},
          "execution_count": 112
        }
      ]
    },
    {
      "cell_type": "code",
      "source": [
        "#Scaling\n",
        "X_train=X_train/255.0\n",
        "X_test=X_test/255.0"
      ],
      "metadata": {
        "id": "euUHAloGjDGT"
      },
      "execution_count": 113,
      "outputs": []
    },
    {
      "cell_type": "code",
      "source": [
        "X_train[0]"
      ],
      "metadata": {
        "id": "B20g2NozjQGp",
        "colab": {
          "base_uri": "https://localhost:8080/"
        },
        "outputId": "4d58231f-ae0c-4ac3-f646-8bf4dd724f88"
      },
      "execution_count": 114,
      "outputs": [
        {
          "output_type": "execute_result",
          "data": {
            "text/plain": [
              "array([[[0.23137255, 0.24313725, 0.24705882],\n",
              "        [0.16862745, 0.18039216, 0.17647059],\n",
              "        [0.19607843, 0.18823529, 0.16862745],\n",
              "        ...,\n",
              "        [0.61960784, 0.51764706, 0.42352941],\n",
              "        [0.59607843, 0.49019608, 0.4       ],\n",
              "        [0.58039216, 0.48627451, 0.40392157]],\n",
              "\n",
              "       [[0.0627451 , 0.07843137, 0.07843137],\n",
              "        [0.        , 0.        , 0.        ],\n",
              "        [0.07058824, 0.03137255, 0.        ],\n",
              "        ...,\n",
              "        [0.48235294, 0.34509804, 0.21568627],\n",
              "        [0.46666667, 0.3254902 , 0.19607843],\n",
              "        [0.47843137, 0.34117647, 0.22352941]],\n",
              "\n",
              "       [[0.09803922, 0.09411765, 0.08235294],\n",
              "        [0.0627451 , 0.02745098, 0.        ],\n",
              "        [0.19215686, 0.10588235, 0.03137255],\n",
              "        ...,\n",
              "        [0.4627451 , 0.32941176, 0.19607843],\n",
              "        [0.47058824, 0.32941176, 0.19607843],\n",
              "        [0.42745098, 0.28627451, 0.16470588]],\n",
              "\n",
              "       ...,\n",
              "\n",
              "       [[0.81568627, 0.66666667, 0.37647059],\n",
              "        [0.78823529, 0.6       , 0.13333333],\n",
              "        [0.77647059, 0.63137255, 0.10196078],\n",
              "        ...,\n",
              "        [0.62745098, 0.52156863, 0.2745098 ],\n",
              "        [0.21960784, 0.12156863, 0.02745098],\n",
              "        [0.20784314, 0.13333333, 0.07843137]],\n",
              "\n",
              "       [[0.70588235, 0.54509804, 0.37647059],\n",
              "        [0.67843137, 0.48235294, 0.16470588],\n",
              "        [0.72941176, 0.56470588, 0.11764706],\n",
              "        ...,\n",
              "        [0.72156863, 0.58039216, 0.36862745],\n",
              "        [0.38039216, 0.24313725, 0.13333333],\n",
              "        [0.3254902 , 0.20784314, 0.13333333]],\n",
              "\n",
              "       [[0.69411765, 0.56470588, 0.45490196],\n",
              "        [0.65882353, 0.50588235, 0.36862745],\n",
              "        [0.70196078, 0.55686275, 0.34117647],\n",
              "        ...,\n",
              "        [0.84705882, 0.72156863, 0.54901961],\n",
              "        [0.59215686, 0.4627451 , 0.32941176],\n",
              "        [0.48235294, 0.36078431, 0.28235294]]])"
            ]
          },
          "metadata": {},
          "execution_count": 114
        }
      ]
    },
    {
      "cell_type": "code",
      "source": [
        "X_train.min(),X_train.max()"
      ],
      "metadata": {
        "id": "sgU5ZN6AjVZG",
        "colab": {
          "base_uri": "https://localhost:8080/"
        },
        "outputId": "355e80d3-303f-4951-ef83-3427dfcd25ce"
      },
      "execution_count": 115,
      "outputs": [
        {
          "output_type": "execute_result",
          "data": {
            "text/plain": [
              "(0.0, 1.0)"
            ]
          },
          "metadata": {},
          "execution_count": 115
        }
      ]
    },
    {
      "cell_type": "code",
      "source": [
        "from keras import models\n",
        "cnn_mod=models.Sequential([\n",
        "    Conv2D(filters=32,kernel_size=(3,3),activation='relu',padding='same',input_shape=(32,32,3)),\n",
        "    MaxPooling2D(pool_size=(2,2),strides=2),\n",
        "    Conv2D(filters=64,kernel_size=(5,5),activation='relu',padding='same'),\n",
        "    MaxPooling2D(pool_size=(2,2),strides=2),\n",
        "    Flatten(),\n",
        "    Dropout(0.3),\n",
        "\n",
        "    Dense(200,activation='relu'),\n",
        "    Dropout(0.3),\n",
        "    Dense(90,activation='relu'),\n",
        "    Dropout(0.3),\n",
        "    Dense(10,activation='softmax')])"
      ],
      "metadata": {
        "id": "MReP0qlHkBOn"
      },
      "execution_count": 116,
      "outputs": []
    },
    {
      "cell_type": "code",
      "source": [
        "cnn_mod.summary()"
      ],
      "metadata": {
        "id": "3V-qfAKCny-w",
        "colab": {
          "base_uri": "https://localhost:8080/"
        },
        "outputId": "b30c0036-7053-40fd-f84e-5b910047717f"
      },
      "execution_count": 117,
      "outputs": [
        {
          "output_type": "stream",
          "name": "stdout",
          "text": [
            "Model: \"sequential_5\"\n",
            "_________________________________________________________________\n",
            " Layer (type)                Output Shape              Param #   \n",
            "=================================================================\n",
            " conv2d_10 (Conv2D)          (None, 32, 32, 32)        896       \n",
            "                                                                 \n",
            " max_pooling2d_10 (MaxPoolin  (None, 16, 16, 32)       0         \n",
            " g2D)                                                            \n",
            "                                                                 \n",
            " conv2d_11 (Conv2D)          (None, 16, 16, 64)        51264     \n",
            "                                                                 \n",
            " max_pooling2d_11 (MaxPoolin  (None, 8, 8, 64)         0         \n",
            " g2D)                                                            \n",
            "                                                                 \n",
            " flatten_5 (Flatten)         (None, 4096)              0         \n",
            "                                                                 \n",
            " dropout_13 (Dropout)        (None, 4096)              0         \n",
            "                                                                 \n",
            " dense_15 (Dense)            (None, 200)               819400    \n",
            "                                                                 \n",
            " dropout_14 (Dropout)        (None, 200)               0         \n",
            "                                                                 \n",
            " dense_16 (Dense)            (None, 90)                18090     \n",
            "                                                                 \n",
            " dropout_15 (Dropout)        (None, 90)                0         \n",
            "                                                                 \n",
            " dense_17 (Dense)            (None, 10)                910       \n",
            "                                                                 \n",
            "=================================================================\n",
            "Total params: 890,560\n",
            "Trainable params: 890,560\n",
            "Non-trainable params: 0\n",
            "_________________________________________________________________\n"
          ]
        }
      ]
    },
    {
      "cell_type": "code",
      "source": [
        "from keras.optimizers import Adam\n",
        "cnn_mod.compile(loss='sparse_categorical_crossentropy',optimizer=Adam(),metrics='accuracy')"
      ],
      "metadata": {
        "id": "U6cH7m48n7t6"
      },
      "execution_count": 118,
      "outputs": []
    },
    {
      "cell_type": "code",
      "source": [
        "cnn_mod_hist=cnn_mod.fit(X_train,Y_train,epochs=15,validation_data=(X_test,Y_test))"
      ],
      "metadata": {
        "colab": {
          "base_uri": "https://localhost:8080/"
        },
        "id": "ctNx95K1pJaV",
        "outputId": "bf58edab-9562-4166-9db2-5917332d67e1"
      },
      "execution_count": 119,
      "outputs": [
        {
          "output_type": "stream",
          "name": "stdout",
          "text": [
            "Epoch 1/15\n",
            "1563/1563 [==============================] - 171s 109ms/step - loss: 1.5748 - accuracy: 0.4256 - val_loss: 1.2199 - val_accuracy: 0.5552\n",
            "Epoch 2/15\n",
            "1563/1563 [==============================] - 168s 107ms/step - loss: 1.2053 - accuracy: 0.5770 - val_loss: 1.1231 - val_accuracy: 0.5988\n",
            "Epoch 3/15\n",
            "1563/1563 [==============================] - 169s 108ms/step - loss: 1.0623 - accuracy: 0.6306 - val_loss: 0.9336 - val_accuracy: 0.6770\n",
            "Epoch 4/15\n",
            "1563/1563 [==============================] - 178s 114ms/step - loss: 0.9687 - accuracy: 0.6638 - val_loss: 0.8948 - val_accuracy: 0.6883\n",
            "Epoch 5/15\n",
            "1563/1563 [==============================] - 183s 117ms/step - loss: 0.9004 - accuracy: 0.6912 - val_loss: 0.8855 - val_accuracy: 0.6925\n",
            "Epoch 6/15\n",
            "1563/1563 [==============================] - 186s 119ms/step - loss: 0.8418 - accuracy: 0.7073 - val_loss: 0.8375 - val_accuracy: 0.7090\n",
            "Epoch 7/15\n",
            "1563/1563 [==============================] - 182s 117ms/step - loss: 0.8106 - accuracy: 0.7210 - val_loss: 0.8126 - val_accuracy: 0.7227\n",
            "Epoch 8/15\n",
            "1563/1563 [==============================] - 184s 118ms/step - loss: 0.7673 - accuracy: 0.7353 - val_loss: 0.7980 - val_accuracy: 0.7247\n",
            "Epoch 9/15\n",
            "1563/1563 [==============================] - 182s 116ms/step - loss: 0.7269 - accuracy: 0.7481 - val_loss: 0.7799 - val_accuracy: 0.7284\n",
            "Epoch 10/15\n",
            "1563/1563 [==============================] - 168s 108ms/step - loss: 0.7035 - accuracy: 0.7564 - val_loss: 0.7896 - val_accuracy: 0.7249\n",
            "Epoch 11/15\n",
            "1563/1563 [==============================] - 166s 106ms/step - loss: 0.6736 - accuracy: 0.7665 - val_loss: 0.7990 - val_accuracy: 0.7263\n",
            "Epoch 12/15\n",
            "1563/1563 [==============================] - 166s 106ms/step - loss: 0.6507 - accuracy: 0.7729 - val_loss: 0.7756 - val_accuracy: 0.7336\n",
            "Epoch 13/15\n",
            "1563/1563 [==============================] - 166s 106ms/step - loss: 0.6225 - accuracy: 0.7835 - val_loss: 0.7794 - val_accuracy: 0.7320\n",
            "Epoch 14/15\n",
            "1563/1563 [==============================] - 168s 108ms/step - loss: 0.6076 - accuracy: 0.7894 - val_loss: 0.7678 - val_accuracy: 0.7372\n",
            "Epoch 15/15\n",
            "1563/1563 [==============================] - 170s 108ms/step - loss: 0.5904 - accuracy: 0.7943 - val_loss: 0.7840 - val_accuracy: 0.7335\n"
          ]
        }
      ]
    },
    {
      "cell_type": "code",
      "source": [
        "plt.plot(cnn_mod_hist.history['loss'])\n",
        "plt.plot(cnn_mod_hist.history['val_loss'])\n",
        "plt.title('model_loss')\n",
        "plt.ylabel('loss')\n",
        "plt.xlabel('Epochs')\n",
        "plt.legend(['train','validation'])\n",
        "plt.show()"
      ],
      "metadata": {
        "id": "3EvPXm2kwMui",
        "colab": {
          "base_uri": "https://localhost:8080/",
          "height": 472
        },
        "outputId": "d99fe40f-32fc-4da1-d42d-89915de9e14d"
      },
      "execution_count": 120,
      "outputs": [
        {
          "output_type": "display_data",
          "data": {
            "text/plain": [
              "<Figure size 640x480 with 1 Axes>"
            ],
            "image/png": "[encoded data removed]"
          },
          "metadata": {}
        }
      ]
    },
    {
      "cell_type": "code",
      "source": [
        "plt.plot(cnn_mod_hist.history['accuracy'])\n",
        "plt.plot(cnn_mod_hist.history['val_accuracy'])\n",
        "plt.title('model_accuracy')\n",
        "plt.ylabel('accuracy')\n",
        "plt.xlabel('Epochs')\n",
        "plt.legend(['train','validation'])\n",
        "plt.show()"
      ],
      "metadata": {
        "id": "CiSUxxqN0y4D",
        "colab": {
          "base_uri": "https://localhost:8080/",
          "height": 472
        },
        "outputId": "82b202d7-0c09-44c5-f020-0670d053fb9d"
      },
      "execution_count": 121,
      "outputs": [
        {
          "output_type": "display_data",
          "data": {
            "text/plain": [
              "<Figure size 640x480 with 1 Axes>"
            ],
            "image/png": "[encoded data removed]"
          },
          "metadata": {}
        }
      ]
    },
    {
      "cell_type": "code",
      "source": [
        "cnn_mod_hist.history['accuracy']"
      ],
      "metadata": {
        "id": "DB5PhCQ5DA-9",
        "colab": {
          "base_uri": "https://localhost:8080/"
        },
        "outputId": "309e3a6a-a679-4395-ea4e-de428eded36c"
      },
      "execution_count": 122,
      "outputs": [
        {
          "output_type": "execute_result",
          "data": {
            "text/plain": [
              "[0.4255799949169159,\n",
              " 0.5770000219345093,\n",
              " 0.630620002746582,\n",
              " 0.6638399958610535,\n",
              " 0.6912400126457214,\n",
              " 0.7073000073432922,\n",
              " 0.721019983291626,\n",
              " 0.7353399991989136,\n",
              " 0.7480999827384949,\n",
              " 0.7563599944114685,\n",
              " 0.766539990901947,\n",
              " 0.7728999853134155,\n",
              " 0.7834600210189819,\n",
              " 0.7893999814987183,\n",
              " 0.7942799925804138]"
            ]
          },
          "metadata": {},
          "execution_count": 122
        }
      ]
    },
    {
      "cell_type": "code",
      "source": [
        "loss,accuracy=cnn_mod.evaluate(X_test,Y_test,verbose=0)\n",
        "print(loss,accuracy)\n"
      ],
      "metadata": {
        "id": "6I6wXAPrDVMz",
        "colab": {
          "base_uri": "https://localhost:8080/"
        },
        "outputId": "dd987886-35eb-4a39-ca15-f25d75e4ec8b"
      },
      "execution_count": 123,
      "outputs": [
        {
          "output_type": "stream",
          "name": "stdout",
          "text": [
            "0.7840394973754883 0.7335000038146973\n"
          ]
        }
      ]
    },
    {
      "cell_type": "code",
      "source": [
        "cnn_mod.save(\"Image_Classification.h5\")"
      ],
      "metadata": {
        "id": "dxHY7FkQEk_B"
      },
      "execution_count": 124,
      "outputs": []
    }
  ]
}